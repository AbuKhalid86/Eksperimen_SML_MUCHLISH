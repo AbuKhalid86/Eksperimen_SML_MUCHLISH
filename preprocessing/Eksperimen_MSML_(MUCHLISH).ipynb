{
  "cells": [
    {
      "cell_type": "markdown",
      "metadata": {
        "id": "kZLRMFl0JyyQ"
      },
      "source": [
        "# 1. Perkenalan Dataset\n",
        "\n",
        "\n",
        "\n"
      ]
    },
    {
      "cell_type": "markdown",
      "metadata": {
        "id": "9kpRPB7TBOST"
      },
      "source": [
        "#### 1.1 Deskripsi Dataset"
      ]
    },
    {
      "cell_type": "markdown",
      "metadata": {
        "id": "rGxSmCm0_OJ3"
      },
      "source": [
        "- Sumber Data: Kaggle - https://www.kaggle.com/datasets/mujtabamatin/air-quality-and-pollution-assessment\n",
        "- Jumlah Data: 5000 sampel\n",
        "- Fitur Numerik:\n",
        "Temperature, Humidity, PM2.5, PM10, NO2, SO2, CO, Proximity_to_Industrial_Areas, Population_Density\n",
        "- Fitur Kategorikal:\n",
        "Air Quality (Target)"
      ]
    },
    {
      "cell_type": "markdown",
      "metadata": {
        "id": "fKADPWcFKlj3"
      },
      "source": [
        "# 2. Import Library"
      ]
    },
    {
      "cell_type": "code",
      "execution_count": 1,
      "metadata": {
        "id": "FVYwaObI8DC1"
      },
      "outputs": [],
      "source": [
        "# Import Library\n",
        "import numpy as np\n",
        "import pandas as pd\n",
        "import matplotlib.pyplot as plt\n",
        "import seaborn as sns\n",
        "from sklearn.preprocessing import StandardScaler, LabelEncoder\n",
        "from sklearn.model_selection import train_test_split, GridSearchCV, cross_val_score\n",
        "from sklearn.ensemble import RandomForestClassifier\n",
        "from xgboost import XGBClassifier\n",
        "from sklearn.metrics import accuracy_score, precision_score, recall_score, f1_score, classification_report, confusion_matrix\n",
        "from sklearn.utils.class_weight import compute_class_weight\n",
        "from sklearn.feature_selection import RFE\n",
        "\n",
        "# Set style untuk visualisasi\n",
        "sns.set_style('whitegrid')\n",
        "plt.style.use('fivethirtyeight')"
      ]
    },
    {
      "cell_type": "markdown",
      "metadata": {
        "id": "f3YIEnAFKrKL"
      },
      "source": [
        "# 3. Memuat Dataset"
      ]
    },
    {
      "cell_type": "code",
      "execution_count": 2,
      "metadata": {
        "colab": {
          "base_uri": "https://localhost:8080/",
          "height": 73
        },
        "id": "wIcv1F9fX4XQ",
        "outputId": "3697b127-b932-4a01-f077-b9f5472fd125"
      },
      "outputs": [
        {
          "output_type": "display_data",
          "data": {
            "text/plain": [
              "<IPython.core.display.HTML object>"
            ],
            "text/html": [
              "\n",
              "     <input type=\"file\" id=\"files-fbc514a3-cbd4-435f-a2fb-108f096e47d9\" name=\"files[]\" multiple disabled\n",
              "        style=\"border:none\" />\n",
              "     <output id=\"result-fbc514a3-cbd4-435f-a2fb-108f096e47d9\">\n",
              "      Upload widget is only available when the cell has been executed in the\n",
              "      current browser session. Please rerun this cell to enable.\n",
              "      </output>\n",
              "      <script>// Copyright 2017 Google LLC\n",
              "//\n",
              "// Licensed under the Apache License, Version 2.0 (the \"License\");\n",
              "// you may not use this file except in compliance with the License.\n",
              "// You may obtain a copy of the License at\n",
              "//\n",
              "//      http://www.apache.org/licenses/LICENSE-2.0\n",
              "//\n",
              "// Unless required by applicable law or agreed to in writing, software\n",
              "// distributed under the License is distributed on an \"AS IS\" BASIS,\n",
              "// WITHOUT WARRANTIES OR CONDITIONS OF ANY KIND, either express or implied.\n",
              "// See the License for the specific language governing permissions and\n",
              "// limitations under the License.\n",
              "\n",
              "/**\n",
              " * @fileoverview Helpers for google.colab Python module.\n",
              " */\n",
              "(function(scope) {\n",
              "function span(text, styleAttributes = {}) {\n",
              "  const element = document.createElement('span');\n",
              "  element.textContent = text;\n",
              "  for (const key of Object.keys(styleAttributes)) {\n",
              "    element.style[key] = styleAttributes[key];\n",
              "  }\n",
              "  return element;\n",
              "}\n",
              "\n",
              "// Max number of bytes which will be uploaded at a time.\n",
              "const MAX_PAYLOAD_SIZE = 100 * 1024;\n",
              "\n",
              "function _uploadFiles(inputId, outputId) {\n",
              "  const steps = uploadFilesStep(inputId, outputId);\n",
              "  const outputElement = document.getElementById(outputId);\n",
              "  // Cache steps on the outputElement to make it available for the next call\n",
              "  // to uploadFilesContinue from Python.\n",
              "  outputElement.steps = steps;\n",
              "\n",
              "  return _uploadFilesContinue(outputId);\n",
              "}\n",
              "\n",
              "// This is roughly an async generator (not supported in the browser yet),\n",
              "// where there are multiple asynchronous steps and the Python side is going\n",
              "// to poll for completion of each step.\n",
              "// This uses a Promise to block the python side on completion of each step,\n",
              "// then passes the result of the previous step as the input to the next step.\n",
              "function _uploadFilesContinue(outputId) {\n",
              "  const outputElement = document.getElementById(outputId);\n",
              "  const steps = outputElement.steps;\n",
              "\n",
              "  const next = steps.next(outputElement.lastPromiseValue);\n",
              "  return Promise.resolve(next.value.promise).then((value) => {\n",
              "    // Cache the last promise value to make it available to the next\n",
              "    // step of the generator.\n",
              "    outputElement.lastPromiseValue = value;\n",
              "    return next.value.response;\n",
              "  });\n",
              "}\n",
              "\n",
              "/**\n",
              " * Generator function which is called between each async step of the upload\n",
              " * process.\n",
              " * @param {string} inputId Element ID of the input file picker element.\n",
              " * @param {string} outputId Element ID of the output display.\n",
              " * @return {!Iterable<!Object>} Iterable of next steps.\n",
              " */\n",
              "function* uploadFilesStep(inputId, outputId) {\n",
              "  const inputElement = document.getElementById(inputId);\n",
              "  inputElement.disabled = false;\n",
              "\n",
              "  const outputElement = document.getElementById(outputId);\n",
              "  outputElement.innerHTML = '';\n",
              "\n",
              "  const pickedPromise = new Promise((resolve) => {\n",
              "    inputElement.addEventListener('change', (e) => {\n",
              "      resolve(e.target.files);\n",
              "    });\n",
              "  });\n",
              "\n",
              "  const cancel = document.createElement('button');\n",
              "  inputElement.parentElement.appendChild(cancel);\n",
              "  cancel.textContent = 'Cancel upload';\n",
              "  const cancelPromise = new Promise((resolve) => {\n",
              "    cancel.onclick = () => {\n",
              "      resolve(null);\n",
              "    };\n",
              "  });\n",
              "\n",
              "  // Wait for the user to pick the files.\n",
              "  const files = yield {\n",
              "    promise: Promise.race([pickedPromise, cancelPromise]),\n",
              "    response: {\n",
              "      action: 'starting',\n",
              "    }\n",
              "  };\n",
              "\n",
              "  cancel.remove();\n",
              "\n",
              "  // Disable the input element since further picks are not allowed.\n",
              "  inputElement.disabled = true;\n",
              "\n",
              "  if (!files) {\n",
              "    return {\n",
              "      response: {\n",
              "        action: 'complete',\n",
              "      }\n",
              "    };\n",
              "  }\n",
              "\n",
              "  for (const file of files) {\n",
              "    const li = document.createElement('li');\n",
              "    li.append(span(file.name, {fontWeight: 'bold'}));\n",
              "    li.append(span(\n",
              "        `(${file.type || 'n/a'}) - ${file.size} bytes, ` +\n",
              "        `last modified: ${\n",
              "            file.lastModifiedDate ? file.lastModifiedDate.toLocaleDateString() :\n",
              "                                    'n/a'} - `));\n",
              "    const percent = span('0% done');\n",
              "    li.appendChild(percent);\n",
              "\n",
              "    outputElement.appendChild(li);\n",
              "\n",
              "    const fileDataPromise = new Promise((resolve) => {\n",
              "      const reader = new FileReader();\n",
              "      reader.onload = (e) => {\n",
              "        resolve(e.target.result);\n",
              "      };\n",
              "      reader.readAsArrayBuffer(file);\n",
              "    });\n",
              "    // Wait for the data to be ready.\n",
              "    let fileData = yield {\n",
              "      promise: fileDataPromise,\n",
              "      response: {\n",
              "        action: 'continue',\n",
              "      }\n",
              "    };\n",
              "\n",
              "    // Use a chunked sending to avoid message size limits. See b/62115660.\n",
              "    let position = 0;\n",
              "    do {\n",
              "      const length = Math.min(fileData.byteLength - position, MAX_PAYLOAD_SIZE);\n",
              "      const chunk = new Uint8Array(fileData, position, length);\n",
              "      position += length;\n",
              "\n",
              "      const base64 = btoa(String.fromCharCode.apply(null, chunk));\n",
              "      yield {\n",
              "        response: {\n",
              "          action: 'append',\n",
              "          file: file.name,\n",
              "          data: base64,\n",
              "        },\n",
              "      };\n",
              "\n",
              "      let percentDone = fileData.byteLength === 0 ?\n",
              "          100 :\n",
              "          Math.round((position / fileData.byteLength) * 100);\n",
              "      percent.textContent = `${percentDone}% done`;\n",
              "\n",
              "    } while (position < fileData.byteLength);\n",
              "  }\n",
              "\n",
              "  // All done.\n",
              "  yield {\n",
              "    response: {\n",
              "      action: 'complete',\n",
              "    }\n",
              "  };\n",
              "}\n",
              "\n",
              "scope.google = scope.google || {};\n",
              "scope.google.colab = scope.google.colab || {};\n",
              "scope.google.colab._files = {\n",
              "  _uploadFiles,\n",
              "  _uploadFilesContinue,\n",
              "};\n",
              "})(self);\n",
              "</script> "
            ]
          },
          "metadata": {}
        },
        {
          "output_type": "stream",
          "name": "stdout",
          "text": [
            "Saving updated_pollution_dataset.csv to updated_pollution_dataset.csv\n"
          ]
        }
      ],
      "source": [
        "from google.colab import files\n",
        "uploaded = files.upload()\n",
        "df = pd.read_csv('updated_pollution_dataset.csv')"
      ]
    },
    {
      "cell_type": "markdown",
      "metadata": {
        "id": "bgZkbJLpK9UR"
      },
      "source": [
        "# 4. Exploratory Data Analysis (EDA)\n"
      ]
    },
    {
      "cell_type": "markdown",
      "metadata": {
        "id": "g0uNE6HiCZWB"
      },
      "source": [
        "#### 4.1 Deskripsi Variabel"
      ]
    },
    {
      "cell_type": "code",
      "execution_count": 3,
      "metadata": {
        "colab": {
          "base_uri": "https://localhost:8080/",
          "height": 320
        },
        "id": "l4VqB_phP_t5",
        "outputId": "bba356e5-c94e-4beb-a06a-a78b5b026405"
      },
      "outputs": [
        {
          "output_type": "execute_result",
          "data": {
            "text/plain": [
              "       Temperature     Humidity        PM2.5         PM10          NO2  \\\n",
              "count  5000.000000  5000.000000  5000.000000  5000.000000  5000.000000   \n",
              "mean     30.029020    69.810180    20.142140    30.218400    26.412100   \n",
              "std       6.720661    15.301732    24.554546    27.349155     8.895356   \n",
              "min      13.400000    36.000000     0.000000     0.000000     7.400000   \n",
              "25%      25.100000    58.300000     4.600000    12.300000    20.100000   \n",
              "50%      29.000000    69.800000    12.000000    21.700000    25.300000   \n",
              "75%      34.000000    80.300000    26.100000    38.100000    31.900000   \n",
              "max      58.600000   100.000000   295.000000   315.800000    64.900000   \n",
              "\n",
              "               SO2           CO  Proximity_to_Industrial_Areas  \\\n",
              "count  5000.000000  5000.000000                    5000.000000   \n",
              "mean     10.020720     1.500354                       8.425400   \n",
              "std       6.740247     0.546027                       3.610944   \n",
              "min       0.000000     0.650000                       2.500000   \n",
              "25%       5.100000     1.030000                       5.400000   \n",
              "50%       8.000000     1.410000                       7.900000   \n",
              "75%      13.725000     1.840000                      11.100000   \n",
              "max      44.900000     3.720000                      25.800000   \n",
              "\n",
              "       Population_Density  \n",
              "count         5000.000000  \n",
              "mean           497.423800  \n",
              "std            152.754084  \n",
              "min            188.000000  \n",
              "25%            381.000000  \n",
              "50%            494.000000  \n",
              "75%            600.000000  \n",
              "max            957.000000  "
            ],
            "text/html": [
              "\n",
              "  <div id=\"df-3343ba0a-eae5-404a-904d-de51e3e74e28\" class=\"colab-df-container\">\n",
              "    <div>\n",
              "<style scoped>\n",
              "    .dataframe tbody tr th:only-of-type {\n",
              "        vertical-align: middle;\n",
              "    }\n",
              "\n",
              "    .dataframe tbody tr th {\n",
              "        vertical-align: top;\n",
              "    }\n",
              "\n",
              "    .dataframe thead th {\n",
              "        text-align: right;\n",
              "    }\n",
              "</style>\n",
              "<table border=\"1\" class=\"dataframe\">\n",
              "  <thead>\n",
              "    <tr style=\"text-align: right;\">\n",
              "      <th></th>\n",
              "      <th>Temperature</th>\n",
              "      <th>Humidity</th>\n",
              "      <th>PM2.5</th>\n",
              "      <th>PM10</th>\n",
              "      <th>NO2</th>\n",
              "      <th>SO2</th>\n",
              "      <th>CO</th>\n",
              "      <th>Proximity_to_Industrial_Areas</th>\n",
              "      <th>Population_Density</th>\n",
              "    </tr>\n",
              "  </thead>\n",
              "  <tbody>\n",
              "    <tr>\n",
              "      <th>count</th>\n",
              "      <td>5000.000000</td>\n",
              "      <td>5000.000000</td>\n",
              "      <td>5000.000000</td>\n",
              "      <td>5000.000000</td>\n",
              "      <td>5000.000000</td>\n",
              "      <td>5000.000000</td>\n",
              "      <td>5000.000000</td>\n",
              "      <td>5000.000000</td>\n",
              "      <td>5000.000000</td>\n",
              "    </tr>\n",
              "    <tr>\n",
              "      <th>mean</th>\n",
              "      <td>30.029020</td>\n",
              "      <td>69.810180</td>\n",
              "      <td>20.142140</td>\n",
              "      <td>30.218400</td>\n",
              "      <td>26.412100</td>\n",
              "      <td>10.020720</td>\n",
              "      <td>1.500354</td>\n",
              "      <td>8.425400</td>\n",
              "      <td>497.423800</td>\n",
              "    </tr>\n",
              "    <tr>\n",
              "      <th>std</th>\n",
              "      <td>6.720661</td>\n",
              "      <td>15.301732</td>\n",
              "      <td>24.554546</td>\n",
              "      <td>27.349155</td>\n",
              "      <td>8.895356</td>\n",
              "      <td>6.740247</td>\n",
              "      <td>0.546027</td>\n",
              "      <td>3.610944</td>\n",
              "      <td>152.754084</td>\n",
              "    </tr>\n",
              "    <tr>\n",
              "      <th>min</th>\n",
              "      <td>13.400000</td>\n",
              "      <td>36.000000</td>\n",
              "      <td>0.000000</td>\n",
              "      <td>0.000000</td>\n",
              "      <td>7.400000</td>\n",
              "      <td>0.000000</td>\n",
              "      <td>0.650000</td>\n",
              "      <td>2.500000</td>\n",
              "      <td>188.000000</td>\n",
              "    </tr>\n",
              "    <tr>\n",
              "      <th>25%</th>\n",
              "      <td>25.100000</td>\n",
              "      <td>58.300000</td>\n",
              "      <td>4.600000</td>\n",
              "      <td>12.300000</td>\n",
              "      <td>20.100000</td>\n",
              "      <td>5.100000</td>\n",
              "      <td>1.030000</td>\n",
              "      <td>5.400000</td>\n",
              "      <td>381.000000</td>\n",
              "    </tr>\n",
              "    <tr>\n",
              "      <th>50%</th>\n",
              "      <td>29.000000</td>\n",
              "      <td>69.800000</td>\n",
              "      <td>12.000000</td>\n",
              "      <td>21.700000</td>\n",
              "      <td>25.300000</td>\n",
              "      <td>8.000000</td>\n",
              "      <td>1.410000</td>\n",
              "      <td>7.900000</td>\n",
              "      <td>494.000000</td>\n",
              "    </tr>\n",
              "    <tr>\n",
              "      <th>75%</th>\n",
              "      <td>34.000000</td>\n",
              "      <td>80.300000</td>\n",
              "      <td>26.100000</td>\n",
              "      <td>38.100000</td>\n",
              "      <td>31.900000</td>\n",
              "      <td>13.725000</td>\n",
              "      <td>1.840000</td>\n",
              "      <td>11.100000</td>\n",
              "      <td>600.000000</td>\n",
              "    </tr>\n",
              "    <tr>\n",
              "      <th>max</th>\n",
              "      <td>58.600000</td>\n",
              "      <td>100.000000</td>\n",
              "      <td>295.000000</td>\n",
              "      <td>315.800000</td>\n",
              "      <td>64.900000</td>\n",
              "      <td>44.900000</td>\n",
              "      <td>3.720000</td>\n",
              "      <td>25.800000</td>\n",
              "      <td>957.000000</td>\n",
              "    </tr>\n",
              "  </tbody>\n",
              "</table>\n",
              "</div>\n",
              "    <div class=\"colab-df-buttons\">\n",
              "\n",
              "  <div class=\"colab-df-container\">\n",
              "    <button class=\"colab-df-convert\" onclick=\"convertToInteractive('df-3343ba0a-eae5-404a-904d-de51e3e74e28')\"\n",
              "            title=\"Convert this dataframe to an interactive table.\"\n",
              "            style=\"display:none;\">\n",
              "\n",
              "  <svg xmlns=\"http://www.w3.org/2000/svg\" height=\"24px\" viewBox=\"0 -960 960 960\">\n",
              "    <path d=\"M120-120v-720h720v720H120Zm60-500h600v-160H180v160Zm220 220h160v-160H400v160Zm0 220h160v-160H400v160ZM180-400h160v-160H180v160Zm440 0h160v-160H620v160ZM180-180h160v-160H180v160Zm440 0h160v-160H620v160Z\"/>\n",
              "  </svg>\n",
              "    </button>\n",
              "\n",
              "  <style>\n",
              "    .colab-df-container {\n",
              "      display:flex;\n",
              "      gap: 12px;\n",
              "    }\n",
              "\n",
              "    .colab-df-convert {\n",
              "      background-color: #E8F0FE;\n",
              "      border: none;\n",
              "      border-radius: 50%;\n",
              "      cursor: pointer;\n",
              "      display: none;\n",
              "      fill: #1967D2;\n",
              "      height: 32px;\n",
              "      padding: 0 0 0 0;\n",
              "      width: 32px;\n",
              "    }\n",
              "\n",
              "    .colab-df-convert:hover {\n",
              "      background-color: #E2EBFA;\n",
              "      box-shadow: 0px 1px 2px rgba(60, 64, 67, 0.3), 0px 1px 3px 1px rgba(60, 64, 67, 0.15);\n",
              "      fill: #174EA6;\n",
              "    }\n",
              "\n",
              "    .colab-df-buttons div {\n",
              "      margin-bottom: 4px;\n",
              "    }\n",
              "\n",
              "    [theme=dark] .colab-df-convert {\n",
              "      background-color: #3B4455;\n",
              "      fill: #D2E3FC;\n",
              "    }\n",
              "\n",
              "    [theme=dark] .colab-df-convert:hover {\n",
              "      background-color: #434B5C;\n",
              "      box-shadow: 0px 1px 3px 1px rgba(0, 0, 0, 0.15);\n",
              "      filter: drop-shadow(0px 1px 2px rgba(0, 0, 0, 0.3));\n",
              "      fill: #FFFFFF;\n",
              "    }\n",
              "  </style>\n",
              "\n",
              "    <script>\n",
              "      const buttonEl =\n",
              "        document.querySelector('#df-3343ba0a-eae5-404a-904d-de51e3e74e28 button.colab-df-convert');\n",
              "      buttonEl.style.display =\n",
              "        google.colab.kernel.accessAllowed ? 'block' : 'none';\n",
              "\n",
              "      async function convertToInteractive(key) {\n",
              "        const element = document.querySelector('#df-3343ba0a-eae5-404a-904d-de51e3e74e28');\n",
              "        const dataTable =\n",
              "          await google.colab.kernel.invokeFunction('convertToInteractive',\n",
              "                                                    [key], {});\n",
              "        if (!dataTable) return;\n",
              "\n",
              "        const docLinkHtml = 'Like what you see? Visit the ' +\n",
              "          '<a target=\"_blank\" href=https://colab.research.google.com/notebooks/data_table.ipynb>data table notebook</a>'\n",
              "          + ' to learn more about interactive tables.';\n",
              "        element.innerHTML = '';\n",
              "        dataTable['output_type'] = 'display_data';\n",
              "        await google.colab.output.renderOutput(dataTable, element);\n",
              "        const docLink = document.createElement('div');\n",
              "        docLink.innerHTML = docLinkHtml;\n",
              "        element.appendChild(docLink);\n",
              "      }\n",
              "    </script>\n",
              "  </div>\n",
              "\n",
              "\n",
              "    <div id=\"df-feff87ce-9a3c-426e-b146-d908ba5d279c\">\n",
              "      <button class=\"colab-df-quickchart\" onclick=\"quickchart('df-feff87ce-9a3c-426e-b146-d908ba5d279c')\"\n",
              "                title=\"Suggest charts\"\n",
              "                style=\"display:none;\">\n",
              "\n",
              "<svg xmlns=\"http://www.w3.org/2000/svg\" height=\"24px\"viewBox=\"0 0 24 24\"\n",
              "     width=\"24px\">\n",
              "    <g>\n",
              "        <path d=\"M19 3H5c-1.1 0-2 .9-2 2v14c0 1.1.9 2 2 2h14c1.1 0 2-.9 2-2V5c0-1.1-.9-2-2-2zM9 17H7v-7h2v7zm4 0h-2V7h2v10zm4 0h-2v-4h2v4z\"/>\n",
              "    </g>\n",
              "</svg>\n",
              "      </button>\n",
              "\n",
              "<style>\n",
              "  .colab-df-quickchart {\n",
              "      --bg-color: #E8F0FE;\n",
              "      --fill-color: #1967D2;\n",
              "      --hover-bg-color: #E2EBFA;\n",
              "      --hover-fill-color: #174EA6;\n",
              "      --disabled-fill-color: #AAA;\n",
              "      --disabled-bg-color: #DDD;\n",
              "  }\n",
              "\n",
              "  [theme=dark] .colab-df-quickchart {\n",
              "      --bg-color: #3B4455;\n",
              "      --fill-color: #D2E3FC;\n",
              "      --hover-bg-color: #434B5C;\n",
              "      --hover-fill-color: #FFFFFF;\n",
              "      --disabled-bg-color: #3B4455;\n",
              "      --disabled-fill-color: #666;\n",
              "  }\n",
              "\n",
              "  .colab-df-quickchart {\n",
              "    background-color: var(--bg-color);\n",
              "    border: none;\n",
              "    border-radius: 50%;\n",
              "    cursor: pointer;\n",
              "    display: none;\n",
              "    fill: var(--fill-color);\n",
              "    height: 32px;\n",
              "    padding: 0;\n",
              "    width: 32px;\n",
              "  }\n",
              "\n",
              "  .colab-df-quickchart:hover {\n",
              "    background-color: var(--hover-bg-color);\n",
              "    box-shadow: 0 1px 2px rgba(60, 64, 67, 0.3), 0 1px 3px 1px rgba(60, 64, 67, 0.15);\n",
              "    fill: var(--button-hover-fill-color);\n",
              "  }\n",
              "\n",
              "  .colab-df-quickchart-complete:disabled,\n",
              "  .colab-df-quickchart-complete:disabled:hover {\n",
              "    background-color: var(--disabled-bg-color);\n",
              "    fill: var(--disabled-fill-color);\n",
              "    box-shadow: none;\n",
              "  }\n",
              "\n",
              "  .colab-df-spinner {\n",
              "    border: 2px solid var(--fill-color);\n",
              "    border-color: transparent;\n",
              "    border-bottom-color: var(--fill-color);\n",
              "    animation:\n",
              "      spin 1s steps(1) infinite;\n",
              "  }\n",
              "\n",
              "  @keyframes spin {\n",
              "    0% {\n",
              "      border-color: transparent;\n",
              "      border-bottom-color: var(--fill-color);\n",
              "      border-left-color: var(--fill-color);\n",
              "    }\n",
              "    20% {\n",
              "      border-color: transparent;\n",
              "      border-left-color: var(--fill-color);\n",
              "      border-top-color: var(--fill-color);\n",
              "    }\n",
              "    30% {\n",
              "      border-color: transparent;\n",
              "      border-left-color: var(--fill-color);\n",
              "      border-top-color: var(--fill-color);\n",
              "      border-right-color: var(--fill-color);\n",
              "    }\n",
              "    40% {\n",
              "      border-color: transparent;\n",
              "      border-right-color: var(--fill-color);\n",
              "      border-top-color: var(--fill-color);\n",
              "    }\n",
              "    60% {\n",
              "      border-color: transparent;\n",
              "      border-right-color: var(--fill-color);\n",
              "    }\n",
              "    80% {\n",
              "      border-color: transparent;\n",
              "      border-right-color: var(--fill-color);\n",
              "      border-bottom-color: var(--fill-color);\n",
              "    }\n",
              "    90% {\n",
              "      border-color: transparent;\n",
              "      border-bottom-color: var(--fill-color);\n",
              "    }\n",
              "  }\n",
              "</style>\n",
              "\n",
              "      <script>\n",
              "        async function quickchart(key) {\n",
              "          const quickchartButtonEl =\n",
              "            document.querySelector('#' + key + ' button');\n",
              "          quickchartButtonEl.disabled = true;  // To prevent multiple clicks.\n",
              "          quickchartButtonEl.classList.add('colab-df-spinner');\n",
              "          try {\n",
              "            const charts = await google.colab.kernel.invokeFunction(\n",
              "                'suggestCharts', [key], {});\n",
              "          } catch (error) {\n",
              "            console.error('Error during call to suggestCharts:', error);\n",
              "          }\n",
              "          quickchartButtonEl.classList.remove('colab-df-spinner');\n",
              "          quickchartButtonEl.classList.add('colab-df-quickchart-complete');\n",
              "        }\n",
              "        (() => {\n",
              "          let quickchartButtonEl =\n",
              "            document.querySelector('#df-feff87ce-9a3c-426e-b146-d908ba5d279c button');\n",
              "          quickchartButtonEl.style.display =\n",
              "            google.colab.kernel.accessAllowed ? 'block' : 'none';\n",
              "        })();\n",
              "      </script>\n",
              "    </div>\n",
              "\n",
              "    </div>\n",
              "  </div>\n"
            ],
            "application/vnd.google.colaboratory.intrinsic+json": {
              "type": "dataframe",
              "summary": "{\n  \"name\": \"df\",\n  \"rows\": 8,\n  \"fields\": [\n    {\n      \"column\": \"Temperature\",\n      \"properties\": {\n        \"dtype\": \"number\",\n        \"std\": 1757.8916597927537,\n        \"min\": 6.72066137351523,\n        \"max\": 5000.0,\n        \"num_unique_values\": 8,\n        \"samples\": [\n          30.029020000000003,\n          29.0,\n          5000.0\n        ],\n        \"semantic_type\": \"\",\n        \"description\": \"\"\n      }\n    },\n    {\n      \"column\": \"Humidity\",\n      \"properties\": {\n        \"dtype\": \"number\",\n        \"std\": 1746.2683754654518,\n        \"min\": 15.301731894376974,\n        \"max\": 5000.0,\n        \"num_unique_values\": 8,\n        \"samples\": [\n          69.81018,\n          69.8,\n          5000.0\n        ],\n        \"semantic_type\": \"\",\n        \"description\": \"\"\n      }\n    },\n    {\n      \"column\": \"PM2.5\",\n      \"properties\": {\n        \"dtype\": \"number\",\n        \"std\": 1751.22837463984,\n        \"min\": 0.0,\n        \"max\": 5000.0,\n        \"num_unique_values\": 8,\n        \"samples\": [\n          20.142139999999998,\n          12.0,\n          5000.0\n        ],\n        \"semantic_type\": \"\",\n        \"description\": \"\"\n      }\n    },\n    {\n      \"column\": \"PM10\",\n      \"properties\": {\n        \"dtype\": \"number\",\n        \"std\": 1748.339005471547,\n        \"min\": 0.0,\n        \"max\": 5000.0,\n        \"num_unique_values\": 8,\n        \"samples\": [\n          30.2184,\n          21.7,\n          5000.0\n        ],\n        \"semantic_type\": \"\",\n        \"description\": \"\"\n      }\n    },\n    {\n      \"column\": \"NO2\",\n      \"properties\": {\n        \"dtype\": \"number\",\n        \"std\": 1758.5179246819112,\n        \"min\": 7.4,\n        \"max\": 5000.0,\n        \"num_unique_values\": 8,\n        \"samples\": [\n          26.4121,\n          25.3,\n          5000.0\n        ],\n        \"semantic_type\": \"\",\n        \"description\": \"\"\n      }\n    },\n    {\n      \"column\": \"SO2\",\n      \"properties\": {\n        \"dtype\": \"number\",\n        \"std\": 1763.3512761736777,\n        \"min\": 0.0,\n        \"max\": 5000.0,\n        \"num_unique_values\": 8,\n        \"samples\": [\n          10.020719999999999,\n          8.0,\n          5000.0\n        ],\n        \"semantic_type\": \"\",\n        \"description\": \"\"\n      }\n    },\n    {\n      \"column\": \"CO\",\n      \"properties\": {\n        \"dtype\": \"number\",\n        \"std\": 1767.2269830484042,\n        \"min\": 0.5460266694116166,\n        \"max\": 5000.0,\n        \"num_unique_values\": 8,\n        \"samples\": [\n          1.5003540000000002,\n          1.41,\n          5000.0\n        ],\n        \"semantic_type\": \"\",\n        \"description\": \"\"\n      }\n    },\n    {\n      \"column\": \"Proximity_to_Industrial_Areas\",\n      \"properties\": {\n        \"dtype\": \"number\",\n        \"std\": 1764.5123331691411,\n        \"min\": 2.5,\n        \"max\": 5000.0,\n        \"num_unique_values\": 8,\n        \"samples\": [\n          8.4254,\n          7.9,\n          5000.0\n        ],\n        \"semantic_type\": \"\",\n        \"description\": \"\"\n      }\n    },\n    {\n      \"column\": \"Population_Density\",\n      \"properties\": {\n        \"dtype\": \"number\",\n        \"std\": 1622.24156946901,\n        \"min\": 152.75408392442807,\n        \"max\": 5000.0,\n        \"num_unique_values\": 8,\n        \"samples\": [\n          497.4238,\n          494.0,\n          5000.0\n        ],\n        \"semantic_type\": \"\",\n        \"description\": \"\"\n      }\n    }\n  ]\n}"
            }
          },
          "metadata": {},
          "execution_count": 3
        }
      ],
      "source": [
        "# Statistical description\n",
        "df.describe()"
      ]
    },
    {
      "cell_type": "markdown",
      "metadata": {
        "id": "kuWKtjw_i3BJ"
      },
      "source": [
        "Insight:\n",
        "1. Deskripsi singkat masing-masing fitur:\n",
        "  - Temperature (°C)\n",
        "→ Suhu lingkungan sekitar saat pengukuran.\n",
        "Insight: Suhu dapat memengaruhi dispersi polutan; misalnya, suhu tinggi bisa meningkatkan pembentukan ozon.\n",
        "  - Humidity (%)\n",
        "→ Kelembapan udara saat pengukuran.\n",
        "Insight: Kelembapan tinggi bisa menahan partikel di udara, meningkatkan konsentrasi PM2.5 dan PM10.\n",
        "  - PM2.5 (µg/m³)\n",
        "→ Partikulat halus berdiameter ≤ 2.5 mikrometer.\n",
        "Insight: Dapat menembus paru-paru, sangat berbahaya bagi kesehatan, sering menjadi indikator utama kualitas udara buruk.\n",
        "  - PM10 (µg/m³)\n",
        "→ Partikulat kasar berdiameter ≤ 10 mikrometer.\n",
        "Insight: Sumbernya bisa dari debu jalan, konstruksi, dan aktivitas industri. Bisa memperburuk kondisi pernapasan.\n",
        "  - NO2 (ppb)\n",
        "→ Nitrogen dioksida, indikator polusi dari kendaraan dan pembakaran bahan bakar.\n",
        "Insight: Paparan tinggi berkaitan dengan masalah paru-paru dan iritasi saluran pernapasan.\n",
        "  - SO2 (ppb)\n",
        "→ Sulfur dioksida, umumnya dari pembakaran batu bara dan industri.\n",
        "Insight: Berpotensi menyebabkan iritasi dan memperburuk penyakit pernapasan.\n",
        "  - CO (ppm)\n",
        "→ Karbon monoksida, biasanya dari emisi kendaraan dan pembakaran tidak sempurna.\n",
        "Insight: Dalam konsentrasi tinggi, sangat beracun dan mengganggu distribusi oksigen dalam tubuh.\n",
        "  - Proximity_to_Industrial_Areas (km)\n",
        "→ Jarak lokasi ke kawasan industri terdekat.\n",
        "Insight: Semakin dekat ke industri, potensi terpapar polusi udara biasanya lebih tinggi.\n",
        "  - Population_Density (orang/km²)\n",
        "→ Kepadatan penduduk di area tersebut.\n",
        "Insight: Daerah padat penduduk cenderung punya aktivitas manusia lebih tinggi, yang bisa memperburuk kualitas udara (misalnya dari kendaraan dan rumah tangga).\n",
        "2. Ada beberapa nilai tidak wajar (Anomali)\n",
        "  - PM10 (min = -0.2)\tNilai negatif (tidak mungkin)\tkemungkinan disebabkan kesalahan sensor/data entry. Solusi: Replace dengan 0 atau hapus baris.\n",
        "  - SO2 (min = -6.2)\tNilai negatif (tidak realistis)\tkemungkinan kesalahan pengukuran. Solusi: Clipping ke nilai minimum fisik (misal: 0).\n",
        "  - PM2.5 (max = 295)\tNilai ekstrem (outlier)\tkemungkinan akibat polusi berat akibat industri,kebakaran hutan atau noise data. Solusi: Pertahankan data\n",
        "  - Humidity (max = 128.1%)\tKelembapan >100% (tidak mungkin)\tkemungkinan kesalahan kalibrasi sensor. Solusi: Cap nilai maksimum 100%.\n"
      ]
    },
    {
      "cell_type": "markdown",
      "metadata": {
        "id": "-fZQro9G3tDf"
      },
      "source": [
        "#### 4.2 Univariate Analysis"
      ]
    },
    {
      "cell_type": "code",
      "execution_count": 4,
      "metadata": {
        "colab": {
          "base_uri": "https://localhost:8080/",
          "height": 443
        },
        "id": "oOeZ5Hr1T6QJ",
        "outputId": "08895912-8429-4da4-ab86-6b0d35bda3a9"
      },
      "outputs": [
        {
          "output_type": "display_data",
          "data": {
            "text/plain": [
              "<Figure size 700x400 with 1 Axes>"
            ],
            "image/png": "[encoded data removed]"
          },
          "metadata": {}
        }
      ],
      "source": [
        "# Visualisasi distribusi target\n",
        "plt.figure(figsize=(7,4))\n",
        "sns.countplot(data=df, x='Air Quality')\n",
        "plt.title('Distribusi Kategori Kualitas Udara')\n",
        "plt.show()"
      ]
    },
    {
      "cell_type": "markdown",
      "metadata": {
        "id": "ig9hN-Uk4E0W"
      },
      "source": [
        "Insight:\n",
        "- Distribusi fitur kategori kualitas udara menunjukkan ketidakseimbangan kelas (class imbalance) dengan rasio 4:3:2:1.\n",
        "- Solusi: Tambahkan class_weight='balanced' saat training model.\n",
        "\n"
      ]
    },
    {
      "cell_type": "markdown",
      "metadata": {
        "id": "QdZvMJKzx42M"
      },
      "source": [
        "#### 4.3 Multivariate Analysis"
      ]
    },
    {
      "cell_type": "code",
      "execution_count": 5,
      "metadata": {
        "colab": {
          "base_uri": "https://localhost:8080/",
          "height": 844
        },
        "id": "b6N0SUcc5F2_",
        "outputId": "6b7cb83a-a11e-428d-b7d3-159497e51a29"
      },
      "outputs": [
        {
          "output_type": "display_data",
          "data": {
            "text/plain": [
              "<Figure size 1000x600 with 2 Axes>"
            ],
            "image/png": "[encoded data removed]"
          },
          "metadata": {}
        }
      ],
      "source": [
        "# Visualisasi korelasi antar fitur numerik\n",
        "plt.figure(figsize=(10,6))\n",
        "corr = df.select_dtypes(include=np.number).corr()\n",
        "sns.heatmap(corr, annot=True, cmap='coolwarm', fmt='.2f')\n",
        "plt.title('Heatmap Korelasi Antar Fitur')\n",
        "plt.show()"
      ]
    },
    {
      "cell_type": "code",
      "execution_count": 6,
      "metadata": {
        "colab": {
          "base_uri": "https://localhost:8080/",
          "height": 351
        },
        "id": "eMthVWTI1LJc",
        "outputId": "df31bb28-1adf-4aab-d28c-401e11bb9e09"
      },
      "outputs": [
        {
          "output_type": "execute_result",
          "data": {
            "text/plain": [
              "                               Temperature  Humidity     PM2.5      PM10  \\\n",
              "Temperature                       1.000000  0.462013  0.323840  0.425689   \n",
              "Humidity                          0.462013  1.000000  0.269793  0.355299   \n",
              "PM2.5                             0.323840  0.269793  1.000000  0.973005   \n",
              "PM10                              0.425689  0.355299  0.973005  1.000000   \n",
              "NO2                               0.591969  0.488211  0.333004  0.439917   \n",
              "SO2                               0.569083  0.456215  0.300194  0.402733   \n",
              "CO                                0.685258  0.563114  0.395179  0.518894   \n",
              "Proximity_to_Industrial_Areas    -0.589564 -0.481102 -0.315766 -0.425018   \n",
              "Population_Density                0.481692  0.407358  0.278957  0.365735   \n",
              "\n",
              "                                    NO2       SO2        CO  \\\n",
              "Temperature                    0.591969  0.569083  0.685258   \n",
              "Humidity                       0.488211  0.456215  0.563114   \n",
              "PM2.5                          0.333004  0.300194  0.395179   \n",
              "PM10                           0.439917  0.402733  0.518894   \n",
              "NO2                            1.000000  0.572656  0.710792   \n",
              "SO2                            0.572656  1.000000  0.680515   \n",
              "CO                             0.710792  0.680515  1.000000   \n",
              "Proximity_to_Industrial_Areas -0.607710 -0.571458 -0.707581   \n",
              "Population_Density             0.510938  0.475999  0.593389   \n",
              "\n",
              "                               Proximity_to_Industrial_Areas  \\\n",
              "Temperature                                        -0.589564   \n",
              "Humidity                                           -0.481102   \n",
              "PM2.5                                              -0.315766   \n",
              "PM10                                               -0.425018   \n",
              "NO2                                                -0.607710   \n",
              "SO2                                                -0.571458   \n",
              "CO                                                 -0.707581   \n",
              "Proximity_to_Industrial_Areas                       1.000000   \n",
              "Population_Density                                 -0.498058   \n",
              "\n",
              "                               Population_Density  \n",
              "Temperature                              0.481692  \n",
              "Humidity                                 0.407358  \n",
              "PM2.5                                    0.278957  \n",
              "PM10                                     0.365735  \n",
              "NO2                                      0.510938  \n",
              "SO2                                      0.475999  \n",
              "CO                                       0.593389  \n",
              "Proximity_to_Industrial_Areas           -0.498058  \n",
              "Population_Density                       1.000000  "
            ],
            "text/html": [
              "\n",
              "  <div id=\"df-7eeca743-39ac-4666-8c41-b845ec028cf5\" class=\"colab-df-container\">\n",
              "    <div>\n",
              "<style scoped>\n",
              "    .dataframe tbody tr th:only-of-type {\n",
              "        vertical-align: middle;\n",
              "    }\n",
              "\n",
              "    .dataframe tbody tr th {\n",
              "        vertical-align: top;\n",
              "    }\n",
              "\n",
              "    .dataframe thead th {\n",
              "        text-align: right;\n",
              "    }\n",
              "</style>\n",
              "<table border=\"1\" class=\"dataframe\">\n",
              "  <thead>\n",
              "    <tr style=\"text-align: right;\">\n",
              "      <th></th>\n",
              "      <th>Temperature</th>\n",
              "      <th>Humidity</th>\n",
              "      <th>PM2.5</th>\n",
              "      <th>PM10</th>\n",
              "      <th>NO2</th>\n",
              "      <th>SO2</th>\n",
              "      <th>CO</th>\n",
              "      <th>Proximity_to_Industrial_Areas</th>\n",
              "      <th>Population_Density</th>\n",
              "    </tr>\n",
              "  </thead>\n",
              "  <tbody>\n",
              "    <tr>\n",
              "      <th>Temperature</th>\n",
              "      <td>1.000000</td>\n",
              "      <td>0.462013</td>\n",
              "      <td>0.323840</td>\n",
              "      <td>0.425689</td>\n",
              "      <td>0.591969</td>\n",
              "      <td>0.569083</td>\n",
              "      <td>0.685258</td>\n",
              "      <td>-0.589564</td>\n",
              "      <td>0.481692</td>\n",
              "    </tr>\n",
              "    <tr>\n",
              "      <th>Humidity</th>\n",
              "      <td>0.462013</td>\n",
              "      <td>1.000000</td>\n",
              "      <td>0.269793</td>\n",
              "      <td>0.355299</td>\n",
              "      <td>0.488211</td>\n",
              "      <td>0.456215</td>\n",
              "      <td>0.563114</td>\n",
              "      <td>-0.481102</td>\n",
              "      <td>0.407358</td>\n",
              "    </tr>\n",
              "    <tr>\n",
              "      <th>PM2.5</th>\n",
              "      <td>0.323840</td>\n",
              "      <td>0.269793</td>\n",
              "      <td>1.000000</td>\n",
              "      <td>0.973005</td>\n",
              "      <td>0.333004</td>\n",
              "      <td>0.300194</td>\n",
              "      <td>0.395179</td>\n",
              "      <td>-0.315766</td>\n",
              "      <td>0.278957</td>\n",
              "    </tr>\n",
              "    <tr>\n",
              "      <th>PM10</th>\n",
              "      <td>0.425689</td>\n",
              "      <td>0.355299</td>\n",
              "      <td>0.973005</td>\n",
              "      <td>1.000000</td>\n",
              "      <td>0.439917</td>\n",
              "      <td>0.402733</td>\n",
              "      <td>0.518894</td>\n",
              "      <td>-0.425018</td>\n",
              "      <td>0.365735</td>\n",
              "    </tr>\n",
              "    <tr>\n",
              "      <th>NO2</th>\n",
              "      <td>0.591969</td>\n",
              "      <td>0.488211</td>\n",
              "      <td>0.333004</td>\n",
              "      <td>0.439917</td>\n",
              "      <td>1.000000</td>\n",
              "      <td>0.572656</td>\n",
              "      <td>0.710792</td>\n",
              "      <td>-0.607710</td>\n",
              "      <td>0.510938</td>\n",
              "    </tr>\n",
              "    <tr>\n",
              "      <th>SO2</th>\n",
              "      <td>0.569083</td>\n",
              "      <td>0.456215</td>\n",
              "      <td>0.300194</td>\n",
              "      <td>0.402733</td>\n",
              "      <td>0.572656</td>\n",
              "      <td>1.000000</td>\n",
              "      <td>0.680515</td>\n",
              "      <td>-0.571458</td>\n",
              "      <td>0.475999</td>\n",
              "    </tr>\n",
              "    <tr>\n",
              "      <th>CO</th>\n",
              "      <td>0.685258</td>\n",
              "      <td>0.563114</td>\n",
              "      <td>0.395179</td>\n",
              "      <td>0.518894</td>\n",
              "      <td>0.710792</td>\n",
              "      <td>0.680515</td>\n",
              "      <td>1.000000</td>\n",
              "      <td>-0.707581</td>\n",
              "      <td>0.593389</td>\n",
              "    </tr>\n",
              "    <tr>\n",
              "      <th>Proximity_to_Industrial_Areas</th>\n",
              "      <td>-0.589564</td>\n",
              "      <td>-0.481102</td>\n",
              "      <td>-0.315766</td>\n",
              "      <td>-0.425018</td>\n",
              "      <td>-0.607710</td>\n",
              "      <td>-0.571458</td>\n",
              "      <td>-0.707581</td>\n",
              "      <td>1.000000</td>\n",
              "      <td>-0.498058</td>\n",
              "    </tr>\n",
              "    <tr>\n",
              "      <th>Population_Density</th>\n",
              "      <td>0.481692</td>\n",
              "      <td>0.407358</td>\n",
              "      <td>0.278957</td>\n",
              "      <td>0.365735</td>\n",
              "      <td>0.510938</td>\n",
              "      <td>0.475999</td>\n",
              "      <td>0.593389</td>\n",
              "      <td>-0.498058</td>\n",
              "      <td>1.000000</td>\n",
              "    </tr>\n",
              "  </tbody>\n",
              "</table>\n",
              "</div>\n",
              "    <div class=\"colab-df-buttons\">\n",
              "\n",
              "  <div class=\"colab-df-container\">\n",
              "    <button class=\"colab-df-convert\" onclick=\"convertToInteractive('df-7eeca743-39ac-4666-8c41-b845ec028cf5')\"\n",
              "            title=\"Convert this dataframe to an interactive table.\"\n",
              "            style=\"display:none;\">\n",
              "\n",
              "  <svg xmlns=\"http://www.w3.org/2000/svg\" height=\"24px\" viewBox=\"0 -960 960 960\">\n",
              "    <path d=\"M120-120v-720h720v720H120Zm60-500h600v-160H180v160Zm220 220h160v-160H400v160Zm0 220h160v-160H400v160ZM180-400h160v-160H180v160Zm440 0h160v-160H620v160ZM180-180h160v-160H180v160Zm440 0h160v-160H620v160Z\"/>\n",
              "  </svg>\n",
              "    </button>\n",
              "\n",
              "  <style>\n",
              "    .colab-df-container {\n",
              "      display:flex;\n",
              "      gap: 12px;\n",
              "    }\n",
              "\n",
              "    .colab-df-convert {\n",
              "      background-color: #E8F0FE;\n",
              "      border: none;\n",
              "      border-radius: 50%;\n",
              "      cursor: pointer;\n",
              "      display: none;\n",
              "      fill: #1967D2;\n",
              "      height: 32px;\n",
              "      padding: 0 0 0 0;\n",
              "      width: 32px;\n",
              "    }\n",
              "\n",
              "    .colab-df-convert:hover {\n",
              "      background-color: #E2EBFA;\n",
              "      box-shadow: 0px 1px 2px rgba(60, 64, 67, 0.3), 0px 1px 3px 1px rgba(60, 64, 67, 0.15);\n",
              "      fill: #174EA6;\n",
              "    }\n",
              "\n",
              "    .colab-df-buttons div {\n",
              "      margin-bottom: 4px;\n",
              "    }\n",
              "\n",
              "    [theme=dark] .colab-df-convert {\n",
              "      background-color: #3B4455;\n",
              "      fill: #D2E3FC;\n",
              "    }\n",
              "\n",
              "    [theme=dark] .colab-df-convert:hover {\n",
              "      background-color: #434B5C;\n",
              "      box-shadow: 0px 1px 3px 1px rgba(0, 0, 0, 0.15);\n",
              "      filter: drop-shadow(0px 1px 2px rgba(0, 0, 0, 0.3));\n",
              "      fill: #FFFFFF;\n",
              "    }\n",
              "  </style>\n",
              "\n",
              "    <script>\n",
              "      const buttonEl =\n",
              "        document.querySelector('#df-7eeca743-39ac-4666-8c41-b845ec028cf5 button.colab-df-convert');\n",
              "      buttonEl.style.display =\n",
              "        google.colab.kernel.accessAllowed ? 'block' : 'none';\n",
              "\n",
              "      async function convertToInteractive(key) {\n",
              "        const element = document.querySelector('#df-7eeca743-39ac-4666-8c41-b845ec028cf5');\n",
              "        const dataTable =\n",
              "          await google.colab.kernel.invokeFunction('convertToInteractive',\n",
              "                                                    [key], {});\n",
              "        if (!dataTable) return;\n",
              "\n",
              "        const docLinkHtml = 'Like what you see? Visit the ' +\n",
              "          '<a target=\"_blank\" href=https://colab.research.google.com/notebooks/data_table.ipynb>data table notebook</a>'\n",
              "          + ' to learn more about interactive tables.';\n",
              "        element.innerHTML = '';\n",
              "        dataTable['output_type'] = 'display_data';\n",
              "        await google.colab.output.renderOutput(dataTable, element);\n",
              "        const docLink = document.createElement('div');\n",
              "        docLink.innerHTML = docLinkHtml;\n",
              "        element.appendChild(docLink);\n",
              "      }\n",
              "    </script>\n",
              "  </div>\n",
              "\n",
              "\n",
              "    <div id=\"df-2471eb6b-ac42-4cb5-b74d-36886bed9d27\">\n",
              "      <button class=\"colab-df-quickchart\" onclick=\"quickchart('df-2471eb6b-ac42-4cb5-b74d-36886bed9d27')\"\n",
              "                title=\"Suggest charts\"\n",
              "                style=\"display:none;\">\n",
              "\n",
              "<svg xmlns=\"http://www.w3.org/2000/svg\" height=\"24px\"viewBox=\"0 0 24 24\"\n",
              "     width=\"24px\">\n",
              "    <g>\n",
              "        <path d=\"M19 3H5c-1.1 0-2 .9-2 2v14c0 1.1.9 2 2 2h14c1.1 0 2-.9 2-2V5c0-1.1-.9-2-2-2zM9 17H7v-7h2v7zm4 0h-2V7h2v10zm4 0h-2v-4h2v4z\"/>\n",
              "    </g>\n",
              "</svg>\n",
              "      </button>\n",
              "\n",
              "<style>\n",
              "  .colab-df-quickchart {\n",
              "      --bg-color: #E8F0FE;\n",
              "      --fill-color: #1967D2;\n",
              "      --hover-bg-color: #E2EBFA;\n",
              "      --hover-fill-color: #174EA6;\n",
              "      --disabled-fill-color: #AAA;\n",
              "      --disabled-bg-color: #DDD;\n",
              "  }\n",
              "\n",
              "  [theme=dark] .colab-df-quickchart {\n",
              "      --bg-color: #3B4455;\n",
              "      --fill-color: #D2E3FC;\n",
              "      --hover-bg-color: #434B5C;\n",
              "      --hover-fill-color: #FFFFFF;\n",
              "      --disabled-bg-color: #3B4455;\n",
              "      --disabled-fill-color: #666;\n",
              "  }\n",
              "\n",
              "  .colab-df-quickchart {\n",
              "    background-color: var(--bg-color);\n",
              "    border: none;\n",
              "    border-radius: 50%;\n",
              "    cursor: pointer;\n",
              "    display: none;\n",
              "    fill: var(--fill-color);\n",
              "    height: 32px;\n",
              "    padding: 0;\n",
              "    width: 32px;\n",
              "  }\n",
              "\n",
              "  .colab-df-quickchart:hover {\n",
              "    background-color: var(--hover-bg-color);\n",
              "    box-shadow: 0 1px 2px rgba(60, 64, 67, 0.3), 0 1px 3px 1px rgba(60, 64, 67, 0.15);\n",
              "    fill: var(--button-hover-fill-color);\n",
              "  }\n",
              "\n",
              "  .colab-df-quickchart-complete:disabled,\n",
              "  .colab-df-quickchart-complete:disabled:hover {\n",
              "    background-color: var(--disabled-bg-color);\n",
              "    fill: var(--disabled-fill-color);\n",
              "    box-shadow: none;\n",
              "  }\n",
              "\n",
              "  .colab-df-spinner {\n",
              "    border: 2px solid var(--fill-color);\n",
              "    border-color: transparent;\n",
              "    border-bottom-color: var(--fill-color);\n",
              "    animation:\n",
              "      spin 1s steps(1) infinite;\n",
              "  }\n",
              "\n",
              "  @keyframes spin {\n",
              "    0% {\n",
              "      border-color: transparent;\n",
              "      border-bottom-color: var(--fill-color);\n",
              "      border-left-color: var(--fill-color);\n",
              "    }\n",
              "    20% {\n",
              "      border-color: transparent;\n",
              "      border-left-color: var(--fill-color);\n",
              "      border-top-color: var(--fill-color);\n",
              "    }\n",
              "    30% {\n",
              "      border-color: transparent;\n",
              "      border-left-color: var(--fill-color);\n",
              "      border-top-color: var(--fill-color);\n",
              "      border-right-color: var(--fill-color);\n",
              "    }\n",
              "    40% {\n",
              "      border-color: transparent;\n",
              "      border-right-color: var(--fill-color);\n",
              "      border-top-color: var(--fill-color);\n",
              "    }\n",
              "    60% {\n",
              "      border-color: transparent;\n",
              "      border-right-color: var(--fill-color);\n",
              "    }\n",
              "    80% {\n",
              "      border-color: transparent;\n",
              "      border-right-color: var(--fill-color);\n",
              "      border-bottom-color: var(--fill-color);\n",
              "    }\n",
              "    90% {\n",
              "      border-color: transparent;\n",
              "      border-bottom-color: var(--fill-color);\n",
              "    }\n",
              "  }\n",
              "</style>\n",
              "\n",
              "      <script>\n",
              "        async function quickchart(key) {\n",
              "          const quickchartButtonEl =\n",
              "            document.querySelector('#' + key + ' button');\n",
              "          quickchartButtonEl.disabled = true;  // To prevent multiple clicks.\n",
              "          quickchartButtonEl.classList.add('colab-df-spinner');\n",
              "          try {\n",
              "            const charts = await google.colab.kernel.invokeFunction(\n",
              "                'suggestCharts', [key], {});\n",
              "          } catch (error) {\n",
              "            console.error('Error during call to suggestCharts:', error);\n",
              "          }\n",
              "          quickchartButtonEl.classList.remove('colab-df-spinner');\n",
              "          quickchartButtonEl.classList.add('colab-df-quickchart-complete');\n",
              "        }\n",
              "        (() => {\n",
              "          let quickchartButtonEl =\n",
              "            document.querySelector('#df-2471eb6b-ac42-4cb5-b74d-36886bed9d27 button');\n",
              "          quickchartButtonEl.style.display =\n",
              "            google.colab.kernel.accessAllowed ? 'block' : 'none';\n",
              "        })();\n",
              "      </script>\n",
              "    </div>\n",
              "\n",
              "  <div id=\"id_57772a81-85d4-415c-84d5-774084237c52\">\n",
              "    <style>\n",
              "      .colab-df-generate {\n",
              "        background-color: #E8F0FE;\n",
              "        border: none;\n",
              "        border-radius: 50%;\n",
              "        cursor: pointer;\n",
              "        display: none;\n",
              "        fill: #1967D2;\n",
              "        height: 32px;\n",
              "        padding: 0 0 0 0;\n",
              "        width: 32px;\n",
              "      }\n",
              "\n",
              "      .colab-df-generate:hover {\n",
              "        background-color: #E2EBFA;\n",
              "        box-shadow: 0px 1px 2px rgba(60, 64, 67, 0.3), 0px 1px 3px 1px rgba(60, 64, 67, 0.15);\n",
              "        fill: #174EA6;\n",
              "      }\n",
              "\n",
              "      [theme=dark] .colab-df-generate {\n",
              "        background-color: #3B4455;\n",
              "        fill: #D2E3FC;\n",
              "      }\n",
              "\n",
              "      [theme=dark] .colab-df-generate:hover {\n",
              "        background-color: #434B5C;\n",
              "        box-shadow: 0px 1px 3px 1px rgba(0, 0, 0, 0.15);\n",
              "        filter: drop-shadow(0px 1px 2px rgba(0, 0, 0, 0.3));\n",
              "        fill: #FFFFFF;\n",
              "      }\n",
              "    </style>\n",
              "    <button class=\"colab-df-generate\" onclick=\"generateWithVariable('corr')\"\n",
              "            title=\"Generate code using this dataframe.\"\n",
              "            style=\"display:none;\">\n",
              "\n",
              "  <svg xmlns=\"http://www.w3.org/2000/svg\" height=\"24px\"viewBox=\"0 0 24 24\"\n",
              "       width=\"24px\">\n",
              "    <path d=\"M7,19H8.4L18.45,9,17,7.55,7,17.6ZM5,21V16.75L18.45,3.32a2,2,0,0,1,2.83,0l1.4,1.43a1.91,1.91,0,0,1,.58,1.4,1.91,1.91,0,0,1-.58,1.4L9.25,21ZM18.45,9,17,7.55Zm-12,3A5.31,5.31,0,0,0,4.9,8.1,5.31,5.31,0,0,0,1,6.5,5.31,5.31,0,0,0,4.9,4.9,5.31,5.31,0,0,0,6.5,1,5.31,5.31,0,0,0,8.1,4.9,5.31,5.31,0,0,0,12,6.5,5.46,5.46,0,0,0,6.5,12Z\"/>\n",
              "  </svg>\n",
              "    </button>\n",
              "    <script>\n",
              "      (() => {\n",
              "      const buttonEl =\n",
              "        document.querySelector('#id_57772a81-85d4-415c-84d5-774084237c52 button.colab-df-generate');\n",
              "      buttonEl.style.display =\n",
              "        google.colab.kernel.accessAllowed ? 'block' : 'none';\n",
              "\n",
              "      buttonEl.onclick = () => {\n",
              "        google.colab.notebook.generateWithVariable('corr');\n",
              "      }\n",
              "      })();\n",
              "    </script>\n",
              "  </div>\n",
              "\n",
              "    </div>\n",
              "  </div>\n"
            ],
            "application/vnd.google.colaboratory.intrinsic+json": {
              "type": "dataframe",
              "variable_name": "corr",
              "summary": "{\n  \"name\": \"corr\",\n  \"rows\": 9,\n  \"fields\": [\n    {\n      \"column\": \"Temperature\",\n      \"properties\": {\n        \"dtype\": \"number\",\n        \"std\": 0.4314828219067408,\n        \"min\": -0.5895637813856901,\n        \"max\": 1.0,\n        \"num_unique_values\": 9,\n        \"samples\": [\n          -0.5895637813856901,\n          0.46201317253170937,\n          0.5690828645134731\n        ],\n        \"semantic_type\": \"\",\n        \"description\": \"\"\n      }\n    },\n    {\n      \"column\": \"Humidity\",\n      \"properties\": {\n        \"dtype\": \"number\",\n        \"std\": 0.3866595308283348,\n        \"min\": -0.4811019451321671,\n        \"max\": 1.0,\n        \"num_unique_values\": 9,\n        \"samples\": [\n          -0.4811019451321671,\n          1.0,\n          0.4562151863145609\n        ],\n        \"semantic_type\": \"\",\n        \"description\": \"\"\n      }\n    },\n    {\n      \"column\": \"PM2.5\",\n      \"properties\": {\n        \"dtype\": \"number\",\n        \"std\": 0.39565469654520047,\n        \"min\": -0.31576644090792594,\n        \"max\": 1.0,\n        \"num_unique_values\": 9,\n        \"samples\": [\n          -0.31576644090792594,\n          0.26979261988701125,\n          0.30019381339706636\n        ],\n        \"semantic_type\": \"\",\n        \"description\": \"\"\n      }\n    },\n    {\n      \"column\": \"PM10\",\n      \"properties\": {\n        \"dtype\": \"number\",\n        \"std\": 0.413132734083872,\n        \"min\": -0.4250182627113048,\n        \"max\": 1.0,\n        \"num_unique_values\": 9,\n        \"samples\": [\n          -0.4250182627113048,\n          0.35529930046484204,\n          0.40273300633247217\n        ],\n        \"semantic_type\": \"\",\n        \"description\": \"\"\n      }\n    },\n    {\n      \"column\": \"NO2\",\n      \"properties\": {\n        \"dtype\": \"number\",\n        \"std\": 0.4392344291469781,\n        \"min\": -0.6077103885150662,\n        \"max\": 1.0,\n        \"num_unique_values\": 9,\n        \"samples\": [\n          -0.6077103885150662,\n          0.4882110463678101,\n          0.5726563001373868\n        ],\n        \"semantic_type\": \"\",\n        \"description\": \"\"\n      }\n    },\n    {\n      \"column\": \"SO2\",\n      \"properties\": {\n        \"dtype\": \"number\",\n        \"std\": 0.42582851691731455,\n        \"min\": -0.5714583680497279,\n        \"max\": 1.0,\n        \"num_unique_values\": 9,\n        \"samples\": [\n          -0.5714583680497279,\n          0.4562151863145609,\n          1.0\n        ],\n        \"semantic_type\": \"\",\n        \"description\": \"\"\n      }\n    },\n    {\n      \"column\": \"CO\",\n      \"properties\": {\n        \"dtype\": \"number\",\n        \"std\": 0.4800043984814209,\n        \"min\": -0.7075807300816191,\n        \"max\": 1.0,\n        \"num_unique_values\": 9,\n        \"samples\": [\n          -0.7075807300816191,\n          0.5631136594289619,\n          0.6805146681543869\n        ],\n        \"semantic_type\": \"\",\n        \"description\": \"\"\n      }\n    },\n    {\n      \"column\": \"Proximity_to_Industrial_Areas\",\n      \"properties\": {\n        \"dtype\": \"number\",\n        \"std\": 0.5206827475882931,\n        \"min\": -0.7075807300816191,\n        \"max\": 1.0,\n        \"num_unique_values\": 9,\n        \"samples\": [\n          1.0,\n          -0.4811019451321671,\n          -0.5714583680497279\n        ],\n        \"semantic_type\": \"\",\n        \"description\": \"\"\n      }\n    },\n    {\n      \"column\": \"Population_Density\",\n      \"properties\": {\n        \"dtype\": \"number\",\n        \"std\": 0.39441669995311,\n        \"min\": -0.49805848761602234,\n        \"max\": 1.0,\n        \"num_unique_values\": 9,\n        \"samples\": [\n          -0.49805848761602234,\n          0.40735792221061573,\n          0.47599924288951734\n        ],\n        \"semantic_type\": \"\",\n        \"description\": \"\"\n      }\n    }\n  ]\n}"
            }
          },
          "metadata": {},
          "execution_count": 6
        }
      ],
      "source": [
        "# Hitung matriks korelasi\n",
        "corr = df.select_dtypes(include=np.number).corr()\n",
        "\n",
        "# Mencetak matriks korelasi\n",
        "corr"
      ]
    },
    {
      "cell_type": "markdown",
      "metadata": {
        "id": "mJL_6Kdk3PbL"
      },
      "source": [
        "Insight:\n",
        "\n",
        "- Korelasi Tinggi antara PM2.5 dan PM10 (0.973)\n",
        "Artinya kedua variabel ini sangat mirip dan membawa informasi yang hampir sama. Bisa dipertimbangkan untuk membuang salah satunya, tetapi karena kita menggunakan model Random Forest dan XGBoost maka keduanya akan dipertahankan dengan asumsi bahwa model akan memilih satu fitur terbaik untuk split di setiap node.\n",
        "\n",
        "- CO punya korelasi tinggi dengan banyak fitur lain, termasuk: NO2 (0.71),\n",
        "  Temperature (0.69), SO2 (0.68) dan Population Density (0.59)\n",
        "  → Tapi CO tetap penting karena termasuk top polutan dalam klasifikasi kualitas udara.\n",
        "\n",
        "- Proximity_to_Industrial_Areas punya korelasi negatif kuat dengan CO (-0.71) dan polutan lainnya\n",
        "→ Artinya masuk akal secara domain knowledge: makin dekat ke industri, makin tinggi polutan.\n",
        "\n",
        "- Tidak ada fitur dengan korelasi sangat rendah (mendekati 0) terhadap semua fitur lain — ini berarti semua fitur cukup informatif dalam hubungannya dengan fitur lain.\n",
        "\n"
      ]
    },
    {
      "cell_type": "markdown",
      "metadata": {
        "id": "cpgHfgnSK3ip"
      },
      "source": [
        "# 5. DATA PREPROCESSING"
      ]
    },
    {
      "cell_type": "markdown",
      "metadata": {
        "id": "O3lAvrBf3ce_"
      },
      "source": [
        "### 5.1 Menangani Missing Value"
      ]
    },
    {
      "cell_type": "code",
      "execution_count": 7,
      "metadata": {
        "colab": {
          "base_uri": "https://localhost:8080/"
        },
        "id": "VuM_gfijDMuW",
        "outputId": "4a596752-b110-4894-fb6a-cc440cad744f"
      },
      "outputs": [
        {
          "output_type": "stream",
          "name": "stdout",
          "text": [
            "<class 'pandas.core.frame.DataFrame'>\n",
            "RangeIndex: 5000 entries, 0 to 4999\n",
            "Data columns (total 10 columns):\n",
            " #   Column                         Non-Null Count  Dtype  \n",
            "---  ------                         --------------  -----  \n",
            " 0   Temperature                    5000 non-null   float64\n",
            " 1   Humidity                       5000 non-null   float64\n",
            " 2   PM2.5                          5000 non-null   float64\n",
            " 3   PM10                           5000 non-null   float64\n",
            " 4   NO2                            5000 non-null   float64\n",
            " 5   SO2                            5000 non-null   float64\n",
            " 6   CO                             5000 non-null   float64\n",
            " 7   Proximity_to_Industrial_Areas  5000 non-null   float64\n",
            " 8   Population_Density             5000 non-null   int64  \n",
            " 9   Air Quality                    5000 non-null   object \n",
            "dtypes: float64(8), int64(1), object(1)\n",
            "memory usage: 390.8+ KB\n"
          ]
        }
      ],
      "source": [
        "df.info()"
      ]
    },
    {
      "cell_type": "markdown",
      "metadata": {
        "id": "c1qc8ss7K_aT"
      },
      "source": [
        "Insight:\n",
        "\n",
        "Tidak ada missing values dalam dataset"
      ]
    },
    {
      "cell_type": "markdown",
      "metadata": {
        "id": "y9andgFB3hZP"
      },
      "source": [
        "### 5.2 Menangani Outliers"
      ]
    },
    {
      "cell_type": "code",
      "execution_count": 8,
      "metadata": {
        "colab": {
          "base_uri": "https://localhost:8080/",
          "height": 577
        },
        "id": "hwuV_EKuBhIm",
        "outputId": "25564ee7-45b5-434a-e0b4-bf7614551571"
      },
      "outputs": [
        {
          "output_type": "display_data",
          "data": {
            "text/plain": [
              "<Figure size 1200x600 with 1 Axes>"
            ],
            "image/png": "[encoded data removed]"
          },
          "metadata": {}
        }
      ],
      "source": [
        "# Visualisasi boxplot untuk deteksi outliers\n",
        "plt.figure(figsize=(12, 6))\n",
        "sns.boxplot(data=df[['PM2.5', 'PM10', 'NO2', 'SO2', 'Humidity']])\n",
        "plt.title(\"Deteksi Outliers\")\n",
        "plt.show()"
      ]
    },
    {
      "cell_type": "code",
      "execution_count": 9,
      "metadata": {
        "colab": {
          "base_uri": "https://localhost:8080/"
        },
        "id": "sz7gc45ENHgk",
        "outputId": "50b2c044-bad2-4b86-b5ea-e47fe33656ad"
      },
      "outputs": [
        {
          "output_type": "stream",
          "name": "stdout",
          "text": [
            "Polutan: PM2.5\n",
            "Jumlah Outlier: 352\n",
            "Persentase Outlier: 7.04%\n",
            "--------------------\n",
            "Polutan: PM10\n",
            "Jumlah Outlier: 324\n",
            "Persentase Outlier: 6.48%\n",
            "--------------------\n",
            "Polutan: NO2\n",
            "Jumlah Outlier: 73\n",
            "Persentase Outlier: 1.46%\n",
            "--------------------\n",
            "Polutan: SO2\n",
            "Jumlah Outlier: 124\n",
            "Persentase Outlier: 2.48%\n",
            "--------------------\n",
            "Polutan: Humidity\n",
            "Jumlah Outlier: 0\n",
            "Persentase Outlier: 0.00%\n",
            "--------------------\n"
          ]
        }
      ],
      "source": [
        "# Calculate outliers\n",
        "def count_outliers(data):\n",
        "    Q1 = np.percentile(data, 25)\n",
        "    Q3 = np.percentile(data, 75)\n",
        "    IQR = Q3 - Q1\n",
        "    lower_bound = Q1 - 1.5 * IQR\n",
        "    upper_bound = Q3 + 1.5 * IQR\n",
        "    outliers = data[(data < lower_bound) | (data > upper_bound)]\n",
        "    return outliers\n",
        "\n",
        "pollutants = ['PM2.5', 'PM10', 'NO2', 'SO2', 'Humidity']\n",
        "for pollutant in pollutants:\n",
        "    outliers = count_outliers(df[pollutant])\n",
        "    jumlah_outlier = len(outliers)\n",
        "    persentase_outlier = (jumlah_outlier / len(df[pollutant])) * 100\n",
        "    print(f\"Polutan: {pollutant}\")\n",
        "    print(f\"Jumlah Outlier: {jumlah_outlier}\")\n",
        "    print(f\"Persentase Outlier: {persentase_outlier:.2f}%\")\n",
        "    print(\"-\" * 20)"
      ]
    },
    {
      "cell_type": "markdown",
      "metadata": {
        "id": "HL2QXgao-tgW"
      },
      "source": [
        "Outlier positif pada PM2.5, PM10, NO2 dan SO2 akan dipertahankan untuk mendeksripsikan kondisi sebenarnya seperti emisi industri dan kebakaran hutan. Namun untuk nilai yang dianggap tidak valid akan ditangani dengan dengan caping/clipping."
      ]
    },
    {
      "cell_type": "code",
      "execution_count": 10,
      "metadata": {
        "colab": {
          "base_uri": "https://localhost:8080/"
        },
        "id": "P09T7nvlMd8a",
        "outputId": "70dd84b5-dbae-4033-ba62-aa61793cdc25"
      },
      "outputs": [
        {
          "output_type": "stream",
          "name": "stdout",
          "text": [
            "Nilai minimum PM10 setelah clipping: 0.0\n"
          ]
        }
      ],
      "source": [
        "# Clipping PM10 ke Nilai Minimum Fisik (0)\n",
        "# Mengganti semua nilai PM10 yang negatif dengan 0\n",
        "df['PM10'] = df['PM10'].clip(lower=0)\n",
        "\n",
        "# Verifikasi\n",
        "print(\"Nilai minimum PM10 setelah clipping:\", df['PM10'].min())"
      ]
    },
    {
      "cell_type": "code",
      "execution_count": 11,
      "metadata": {
        "colab": {
          "base_uri": "https://localhost:8080/"
        },
        "id": "LvjYD6TQNm7e",
        "outputId": "2c93eb5a-e67f-4ad0-a2d4-c1e2202b6ab8"
      },
      "outputs": [
        {
          "output_type": "stream",
          "name": "stdout",
          "text": [
            "Nilai minimum SO2 setelah clipping: 0.0\n"
          ]
        }
      ],
      "source": [
        "# Clipping SO2 ke Nilai Minimum Fisik (0)\n",
        "# Mengganti semua nilai SO2 yang negatif dengan 0\n",
        "df['SO2'] = df['SO2'].clip(lower=0)\n",
        "\n",
        "# Verifikasi\n",
        "print(\"Nilai minimum SO2 setelah clipping:\", df['SO2'].min())"
      ]
    },
    {
      "cell_type": "code",
      "execution_count": 12,
      "metadata": {
        "colab": {
          "base_uri": "https://localhost:8080/"
        },
        "id": "MktbPJqiNqWR",
        "outputId": "bda498cd-7133-4b0a-9dfc-b3c3935fae7d"
      },
      "outputs": [
        {
          "output_type": "stream",
          "name": "stdout",
          "text": [
            "Nilai maksimum Humidity setelah capping: 100.0\n"
          ]
        }
      ],
      "source": [
        "# Capping Humidity Maksimum 100%\n",
        "# Mengganti semua nilai Humidity >100% dengan 100\n",
        "df['Humidity'] = df['Humidity'].clip(upper=100)\n",
        "\n",
        "# Verifikasi\n",
        "print(\"Nilai maksimum Humidity setelah capping:\", df['Humidity'].max())"
      ]
    },
    {
      "cell_type": "markdown",
      "metadata": {
        "id": "iXV2tPEtXFrm"
      },
      "source": [
        "### 5.3 Encoding Variabel Target"
      ]
    },
    {
      "cell_type": "code",
      "execution_count": 13,
      "metadata": {
        "id": "8WGWfOLi61Vu"
      },
      "outputs": [],
      "source": [
        "# Pisahkan fitur dan target\n",
        "X = df.drop('Air Quality', axis=1)\n",
        "y = df['Air Quality']"
      ]
    },
    {
      "cell_type": "code",
      "execution_count": 14,
      "metadata": {
        "id": "sGyy0iARVZQP"
      },
      "outputs": [],
      "source": [
        "# Encoding target variable\n",
        "le = LabelEncoder()\n",
        "y_encoded = le.fit_transform(y)"
      ]
    },
    {
      "cell_type": "markdown",
      "metadata": {
        "id": "3JguDOEO7aot"
      },
      "source": [
        "### 5.4 Data Splitting"
      ]
    },
    {
      "cell_type": "code",
      "execution_count": 15,
      "metadata": {
        "colab": {
          "base_uri": "https://localhost:8080/"
        },
        "id": "ak7kDbvPzyWs",
        "outputId": "d04dfafe-750c-4df4-d580-69f95a0d4529"
      },
      "outputs": [
        {
          "output_type": "stream",
          "name": "stdout",
          "text": [
            "Jumlah data training: 4000\n",
            "Jumlah data testing: 1000\n"
          ]
        }
      ],
      "source": [
        "# Split data menjadi train dan test\n",
        "X_train, X_test, y_train, y_test = train_test_split(X, y_encoded, test_size=0.2, random_state=42, stratify=y_encoded)\n",
        "print(f\"Jumlah data training: {len(X_train)}\")\n",
        "print(f\"Jumlah data testing: {len(X_test)}\")"
      ]
    },
    {
      "cell_type": "markdown",
      "metadata": {
        "id": "I_uvtm8h4MY0"
      },
      "source": [
        "### 5.5 Feature Scaling"
      ]
    },
    {
      "cell_type": "code",
      "execution_count": 16,
      "metadata": {
        "id": "QUwnRSEnW4tg"
      },
      "outputs": [],
      "source": [
        "# Inisialisasi scaler\n",
        "scaler = StandardScaler()\n",
        "\n",
        "# Fit dan transform hanya pada train set\n",
        "X_train_scaled = scaler.fit_transform(X_train)\n",
        "\n",
        "# Transform test set dengan parameter yang sama\n",
        "X_test_scaled = scaler.transform(X_test)"
      ]
    }
  ],
  "metadata": {
    "colab": {
      "provenance": []
    },
    "kernelspec": {
      "display_name": "Python 3",
      "name": "python3"
    },
    "language_info": {
      "name": "python"
    }
  },
  "nbformat": 4,
  "nbformat_minor": 0
}